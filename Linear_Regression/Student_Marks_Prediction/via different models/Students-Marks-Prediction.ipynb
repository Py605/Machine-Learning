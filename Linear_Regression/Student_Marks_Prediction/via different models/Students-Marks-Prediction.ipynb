{
 "cells": [
  {
   "cell_type": "code",
   "execution_count": 2,
   "id": "ad882457",
   "metadata": {},
   "outputs": [],
   "source": [
    "import pandas as pd\n",
    "import numpy as np\n",
    "import matplotlib.pyplot as plt\n",
    "from sklearn.model_selection import train_test_split"
   ]
  },
  {
   "cell_type": "code",
   "execution_count": 3,
   "id": "311a413f",
   "metadata": {},
   "outputs": [],
   "source": [
    "data = pd.read_csv(\"student_class1.csv\")"
   ]
  },
  {
   "cell_type": "code",
   "execution_count": 4,
   "id": "c5fcf72f",
   "metadata": {},
   "outputs": [
    {
     "data": {
      "text/html": [
       "<div>\n",
       "<style scoped>\n",
       "    .dataframe tbody tr th:only-of-type {\n",
       "        vertical-align: middle;\n",
       "    }\n",
       "\n",
       "    .dataframe tbody tr th {\n",
       "        vertical-align: top;\n",
       "    }\n",
       "\n",
       "    .dataframe thead th {\n",
       "        text-align: right;\n",
       "    }\n",
       "</style>\n",
       "<table border=\"1\" class=\"dataframe\">\n",
       "  <thead>\n",
       "    <tr style=\"text-align: right;\">\n",
       "      <th></th>\n",
       "      <th>Roll No</th>\n",
       "      <th>S1</th>\n",
       "      <th>S2</th>\n",
       "      <th>S3</th>\n",
       "      <th>S4</th>\n",
       "      <th>S5</th>\n",
       "      <th>S6</th>\n",
       "    </tr>\n",
       "  </thead>\n",
       "  <tbody>\n",
       "    <tr>\n",
       "      <th>0</th>\n",
       "      <td>1</td>\n",
       "      <td>95</td>\n",
       "      <td>77</td>\n",
       "      <td>77</td>\n",
       "      <td>73</td>\n",
       "      <td>43</td>\n",
       "      <td>93</td>\n",
       "    </tr>\n",
       "    <tr>\n",
       "      <th>1</th>\n",
       "      <td>2</td>\n",
       "      <td>89</td>\n",
       "      <td>96</td>\n",
       "      <td>65</td>\n",
       "      <td>78</td>\n",
       "      <td>99</td>\n",
       "      <td>74</td>\n",
       "    </tr>\n",
       "    <tr>\n",
       "      <th>2</th>\n",
       "      <td>3</td>\n",
       "      <td>65</td>\n",
       "      <td>62</td>\n",
       "      <td>88</td>\n",
       "      <td>91</td>\n",
       "      <td>45</td>\n",
       "      <td>75</td>\n",
       "    </tr>\n",
       "    <tr>\n",
       "      <th>3</th>\n",
       "      <td>4</td>\n",
       "      <td>78</td>\n",
       "      <td>42</td>\n",
       "      <td>78</td>\n",
       "      <td>64</td>\n",
       "      <td>69</td>\n",
       "      <td>54</td>\n",
       "    </tr>\n",
       "    <tr>\n",
       "      <th>4</th>\n",
       "      <td>5</td>\n",
       "      <td>81</td>\n",
       "      <td>68</td>\n",
       "      <td>93</td>\n",
       "      <td>65</td>\n",
       "      <td>84</td>\n",
       "      <td>54</td>\n",
       "    </tr>\n",
       "  </tbody>\n",
       "</table>\n",
       "</div>"
      ],
      "text/plain": [
       "   Roll No  S1  S2  S3  S4  S5  S6\n",
       "0        1  95  77  77  73  43  93\n",
       "1        2  89  96  65  78  99  74\n",
       "2        3  65  62  88  91  45  75\n",
       "3        4  78  42  78  64  69  54\n",
       "4        5  81  68  93  65  84  54"
      ]
     },
     "execution_count": 4,
     "metadata": {},
     "output_type": "execute_result"
    }
   ],
   "source": [
    "data.head()"
   ]
  },
  {
   "cell_type": "code",
   "execution_count": 30,
   "id": "c330cff5",
   "metadata": {},
   "outputs": [],
   "source": [
    "X = data.loc[:,[\"S1\",\"S2\",\"S3\",\"S4\",\"S5\"]]\n",
    "y = data.loc[:,\"S6\"]\n",
    "X_train, X_test, y_train, y_test = train_test_split(X, y, test_size=0.33, random_state=42)\n"
   ]
  },
  {
   "cell_type": "markdown",
   "id": "ed793103",
   "metadata": {},
   "source": [
    "\n",
    "### Training Our model..."
   ]
  },
  {
   "cell_type": "code",
   "execution_count": 31,
   "id": "7dff85b7",
   "metadata": {},
   "outputs": [
    {
     "name": "stdout",
     "output_type": "stream",
     "text": [
      "[68.47737919 74.82379459 71.21848636 74.79512477 72.941971  ]\n"
     ]
    }
   ],
   "source": [
    "# Linear Regresssion...\n",
    "from sklearn.linear_model import LinearRegression\n",
    "model1 = LinearRegression()\n",
    "model1.fit(X_train,y_train)\n",
    "pred1 = model1.predict(X_test)\n",
    "print(pred1[0:5])\n"
   ]
  },
  {
   "cell_type": "code",
   "execution_count": 32,
   "id": "f4b302fd",
   "metadata": {},
   "outputs": [
    {
     "name": "stdout",
     "output_type": "stream",
     "text": [
      "[75.01273343 80.36807484 77.81186039 73.018835   84.99201319]\n"
     ]
    }
   ],
   "source": [
    "# Gradient Boosting Regressor\n",
    "from sklearn.ensemble import GradientBoostingRegressor\n",
    "model2 = GradientBoostingRegressor()\n",
    "model2.fit(X_train,y_train)\n",
    "pred2 = model2.predict(X_test)\n",
    "print(pred2[0:5])\n"
   ]
  },
  {
   "cell_type": "code",
   "execution_count": 33,
   "id": "936bf764",
   "metadata": {},
   "outputs": [
    {
     "name": "stdout",
     "output_type": "stream",
     "text": [
      "[69.62552865 71.57912053 70.50579972 71.57225446 71.05411544]\n"
     ]
    }
   ],
   "source": [
    "# Bayesian Ridge\n",
    "from sklearn.linear_model import BayesianRidge\n",
    "model3 = BayesianRidge()\n",
    "model3.fit(X_train,y_train)\n",
    "pred3 = model3.predict(X_test)\n",
    "print(pred3[0:5])\n"
   ]
  },
  {
   "cell_type": "code",
   "execution_count": 37,
   "id": "5463d9e6",
   "metadata": {},
   "outputs": [
    {
     "name": "stdout",
     "output_type": "stream",
     "text": [
      "[73.55 74.52 77.07 72.08 82.02]\n"
     ]
    }
   ],
   "source": [
    "# RandomForestRegressor\n",
    "from sklearn.ensemble import RandomForestRegressor\n",
    "model4 = RandomForestRegressor()\n",
    "model4.fit(X_train,y_train)\n",
    "pred4 = model4.predict(X_test)\n",
    "print(pred4[0:5])"
   ]
  },
  {
   "cell_type": "markdown",
   "id": "0d73f350",
   "metadata": {},
   "source": [
    "## Checking Accuracy of Model's.. "
   ]
  },
  {
   "cell_type": "code",
   "execution_count": 38,
   "id": "61afe595",
   "metadata": {},
   "outputs": [
    {
     "name": "stdout",
     "output_type": "stream",
     "text": [
      "Acccuracy of Linear Regression:-  0.03197047680259557\n",
      "Acccuracy of Gradient Boosting Regressor:-  -0.06063464254149653\n",
      "Acccuracy of Bayesian Ridge:-  0.014542649212469172\n",
      "Acccuracy of Random Forest Regressor:-  -0.010343603985157213\n"
     ]
    }
   ],
   "source": [
    "print(\"Acccuracy of Linear Regression:- \",model1.score(X_test,y_test))\n",
    "print(\"Acccuracy of Gradient Boosting Regressor:- \",model2.score(X_test,y_test))\n",
    "print(\"Acccuracy of Bayesian Ridge:- \",model3.score(X_test,y_test))\n",
    "print(\"Acccuracy of Random Forest Regressor:- \",model4.score(X_test,y_test))"
   ]
  },
  {
   "cell_type": "code",
   "execution_count": 39,
   "id": "d813a5cb",
   "metadata": {},
   "outputs": [
    {
     "name": "stdout",
     "output_type": "stream",
     "text": [
      "---Ensemble Model Accuracy---\n",
      "0.0324262011786548\n"
     ]
    }
   ],
   "source": [
    "from sklearn.metrics import r2_score\n",
    "ensemble_prediction = (pred1*0.3 + pred2*0.1 + pred3*0.3 + pred4*0.3)\n",
    "\n",
    "r2_score_ensemble = r2_score(y_test,ensemble_prediction)\n",
    "print(\"---Ensemble Model Accuracy---\")\n",
    "print(r2_score_ensemble)"
   ]
  },
  {
   "cell_type": "code",
   "execution_count": null,
   "id": "6ad73a5c",
   "metadata": {},
   "outputs": [],
   "source": []
  }
 ],
 "metadata": {
  "kernelspec": {
   "display_name": "Python 3 (ipykernel)",
   "language": "python",
   "name": "python3"
  },
  "language_info": {
   "codemirror_mode": {
    "name": "ipython",
    "version": 3
   },
   "file_extension": ".py",
   "mimetype": "text/x-python",
   "name": "python",
   "nbconvert_exporter": "python",
   "pygments_lexer": "ipython3",
   "version": "3.9.12"
  }
 },
 "nbformat": 4,
 "nbformat_minor": 5
}
