{
 "cells": [
  {
   "cell_type": "code",
   "execution_count": 1,
   "id": "ad882457",
   "metadata": {},
   "outputs": [],
   "source": [
    "import pandas as pd\n",
    "import numpy as np\n",
    "import matplotlib.pyplot as plt\n",
    "from sklearn.model_selection import train_test_split\n",
    "from sklearn.metrics import mean_squared_error"
   ]
  },
  {
   "cell_type": "code",
   "execution_count": 2,
   "id": "311a413f",
   "metadata": {},
   "outputs": [],
   "source": [
    "data = pd.read_csv(\"student_class1.csv\")"
   ]
  },
  {
   "cell_type": "code",
   "execution_count": 3,
   "id": "c5fcf72f",
   "metadata": {},
   "outputs": [
    {
     "data": {
      "text/html": [
       "<div>\n",
       "<style scoped>\n",
       "    .dataframe tbody tr th:only-of-type {\n",
       "        vertical-align: middle;\n",
       "    }\n",
       "\n",
       "    .dataframe tbody tr th {\n",
       "        vertical-align: top;\n",
       "    }\n",
       "\n",
       "    .dataframe thead th {\n",
       "        text-align: right;\n",
       "    }\n",
       "</style>\n",
       "<table border=\"1\" class=\"dataframe\">\n",
       "  <thead>\n",
       "    <tr style=\"text-align: right;\">\n",
       "      <th></th>\n",
       "      <th>Roll No</th>\n",
       "      <th>S1</th>\n",
       "      <th>S2</th>\n",
       "      <th>S3</th>\n",
       "      <th>S4</th>\n",
       "      <th>S5</th>\n",
       "      <th>S6</th>\n",
       "      <th>Teachers</th>\n",
       "    </tr>\n",
       "  </thead>\n",
       "  <tbody>\n",
       "    <tr>\n",
       "      <th>0</th>\n",
       "      <td>1</td>\n",
       "      <td>95</td>\n",
       "      <td>77</td>\n",
       "      <td>77</td>\n",
       "      <td>73</td>\n",
       "      <td>43</td>\n",
       "      <td>93</td>\n",
       "      <td>10</td>\n",
       "    </tr>\n",
       "    <tr>\n",
       "      <th>1</th>\n",
       "      <td>2</td>\n",
       "      <td>89</td>\n",
       "      <td>96</td>\n",
       "      <td>65</td>\n",
       "      <td>78</td>\n",
       "      <td>99</td>\n",
       "      <td>74</td>\n",
       "      <td>10</td>\n",
       "    </tr>\n",
       "    <tr>\n",
       "      <th>2</th>\n",
       "      <td>3</td>\n",
       "      <td>65</td>\n",
       "      <td>62</td>\n",
       "      <td>88</td>\n",
       "      <td>91</td>\n",
       "      <td>45</td>\n",
       "      <td>75</td>\n",
       "      <td>10</td>\n",
       "    </tr>\n",
       "    <tr>\n",
       "      <th>3</th>\n",
       "      <td>4</td>\n",
       "      <td>78</td>\n",
       "      <td>42</td>\n",
       "      <td>78</td>\n",
       "      <td>64</td>\n",
       "      <td>69</td>\n",
       "      <td>54</td>\n",
       "      <td>10</td>\n",
       "    </tr>\n",
       "    <tr>\n",
       "      <th>4</th>\n",
       "      <td>5</td>\n",
       "      <td>81</td>\n",
       "      <td>68</td>\n",
       "      <td>93</td>\n",
       "      <td>65</td>\n",
       "      <td>84</td>\n",
       "      <td>54</td>\n",
       "      <td>10</td>\n",
       "    </tr>\n",
       "  </tbody>\n",
       "</table>\n",
       "</div>"
      ],
      "text/plain": [
       "   Roll No  S1  S2  S3  S4  S5  S6  Teachers\n",
       "0        1  95  77  77  73  43  93        10\n",
       "1        2  89  96  65  78  99  74        10\n",
       "2        3  65  62  88  91  45  75        10\n",
       "3        4  78  42  78  64  69  54        10\n",
       "4        5  81  68  93  65  84  54        10"
      ]
     },
     "execution_count": 3,
     "metadata": {},
     "output_type": "execute_result"
    }
   ],
   "source": [
    "data.head()"
   ]
  },
  {
   "cell_type": "code",
   "execution_count": 15,
   "id": "c330cff5",
   "metadata": {},
   "outputs": [],
   "source": [
    "X = data.loc[:,[\"S1\",\"S2\",\"S3\",\"S4\",\"S5\",\"Teachers\"]]\n",
    "y = data.loc[:,\"S6\"]\n",
    "X_train, X_test, y_train, y_test = train_test_split(X, y, test_size=0.33, random_state=42)\n"
   ]
  },
  {
   "cell_type": "markdown",
   "id": "ed793103",
   "metadata": {},
   "source": [
    "\n",
    "### Training Our model..."
   ]
  },
  {
   "cell_type": "code",
   "execution_count": 16,
   "id": "7dff85b7",
   "metadata": {},
   "outputs": [
    {
     "name": "stdout",
     "output_type": "stream",
     "text": [
      "68.47737918811019\n"
     ]
    }
   ],
   "source": [
    "# Linear Regresssion...\n",
    "from sklearn.linear_model import LinearRegression\n",
    "model1 = LinearRegression()\n",
    "model1.fit(X_train,y_train)\n",
    "pred1 = model1.predict(X_test)\n",
    "print(pred1[0])\n"
   ]
  },
  {
   "cell_type": "code",
   "execution_count": 17,
   "id": "f4b302fd",
   "metadata": {},
   "outputs": [
    {
     "name": "stdout",
     "output_type": "stream",
     "text": [
      "[75.01273343 80.36807484 77.81186039 73.018835   84.66763387]\n"
     ]
    }
   ],
   "source": [
    "# Gradient Boosting Regressor\n",
    "from sklearn.ensemble import GradientBoostingRegressor\n",
    "model2 = GradientBoostingRegressor()\n",
    "model2.fit(X_train,y_train)\n",
    "pred2 = model2.predict(X_test)\n",
    "print(pred2[0:5])\n"
   ]
  },
  {
   "cell_type": "code",
   "execution_count": 18,
   "id": "936bf764",
   "metadata": {},
   "outputs": [
    {
     "name": "stdout",
     "output_type": "stream",
     "text": [
      "[69.62552865 71.57912053 70.50579972 71.57225446 71.05411544]\n"
     ]
    }
   ],
   "source": [
    "# Bayesian Ridge\n",
    "from sklearn.linear_model import BayesianRidge\n",
    "model3 = BayesianRidge()\n",
    "model3.fit(X_train,y_train)\n",
    "pred3 = model3.predict(X_test)\n",
    "print(pred3[0:5])\n"
   ]
  },
  {
   "cell_type": "code",
   "execution_count": 19,
   "id": "5463d9e6",
   "metadata": {},
   "outputs": [
    {
     "name": "stdout",
     "output_type": "stream",
     "text": [
      "[73.4  76.04 77.47 74.16 82.76]\n"
     ]
    }
   ],
   "source": [
    "# RandomForestRegressor\n",
    "from sklearn.ensemble import RandomForestRegressor\n",
    "model4 = RandomForestRegressor()\n",
    "model4.fit(X_train,y_train)\n",
    "pred4 = model4.predict(X_test)\n",
    "print(pred4[0:5])"
   ]
  },
  {
   "cell_type": "code",
   "execution_count": 20,
   "id": "4fb3901b",
   "metadata": {},
   "outputs": [
    {
     "data": {
      "text/plain": [
       "299.3735751515151"
      ]
     },
     "execution_count": 20,
     "metadata": {},
     "output_type": "execute_result"
    }
   ],
   "source": [
    "error = mean_squared_error(pred4,y_test)\n",
    "error"
   ]
  },
  {
   "cell_type": "markdown",
   "id": "0d73f350",
   "metadata": {},
   "source": [
    "## Checking Accuracy of Model's.. "
   ]
  },
  {
   "cell_type": "code",
   "execution_count": 21,
   "id": "61afe595",
   "metadata": {},
   "outputs": [
    {
     "name": "stdout",
     "output_type": "stream",
     "text": [
      "Acccuracy of Linear Regression:-  0.03197047680259557\n",
      "Acccuracy of Gradient Boosting Regressor:-  -0.058252020397741466\n",
      "Acccuracy of Bayesian Ridge:-  0.014542649212469061\n",
      "Acccuracy of Random Forest Regressor:-  -0.04017133729112832\n"
     ]
    }
   ],
   "source": [
    "print(\"Acccuracy of Linear Regression:- \",model1.score(X_test,y_test))\n",
    "print(\"Acccuracy of Gradient Boosting Regressor:- \",model2.score(X_test,y_test))\n",
    "print(\"Acccuracy of Bayesian Ridge:- \",model3.score(X_test,y_test))\n",
    "print(\"Acccuracy of Random Forest Regressor:- \",model4.score(X_test,y_test))"
   ]
  },
  {
   "cell_type": "markdown",
   "id": "24ff44d8",
   "metadata": {},
   "source": [
    "# Now, Case 2:\n"
   ]
  },
  {
   "cell_type": "markdown",
   "id": "714e04dc",
   "metadata": {},
   "source": [
    "### In this Case, we will have another class  and we  will transfer one Student from Class A to Class B, to check whether that student marks will change or not via our prediction model...."
   ]
  },
  {
   "cell_type": "markdown",
   "id": "e714ea74",
   "metadata": {},
   "source": [
    "* So, First we have to update our class B\n",
    "* Then we will train our model with respect to Class B\n",
    "* Then, again make prediction\n",
    "* Then, check for Difference in Prev value and Curr value..."
   ]
  },
  {
   "cell_type": "code",
   "execution_count": 22,
   "id": "0d0cbe3c",
   "metadata": {},
   "outputs": [
    {
     "name": "stdout",
     "output_type": "stream",
     "text": [
      "Before Transfer\n",
      "   Roll No  S1  S2  S3  S4  S5  S6  Teachers\n",
      "0        1  94  61  46  75  44  51        10\n",
      "1        2  58  87  67  81  96  93        10\n",
      "2        3  68  95  82  99  98  65        10\n",
      "3        4  78  78  90  65  61  94        10\n",
      "4        5  90  55  84  56  52  49        10\n"
     ]
    }
   ],
   "source": [
    "#1. \n",
    "data2 = pd.read_csv(\"student_class2.csv\")\n",
    "df = pd.DataFrame(data)\n",
    "df2 = pd.DataFrame(data2)\n",
    "print(\"Before Transfer\")\n",
    "print(df2.head())\n"
   ]
  },
  {
   "cell_type": "code",
   "execution_count": 23,
   "id": "c3c942ea",
   "metadata": {},
   "outputs": [
    {
     "name": "stdout",
     "output_type": "stream",
     "text": [
      "After Transfer\n",
      "   Roll No  S1  S2  S3  S4  S5  S6  Teachers\n",
      "0        1  95  77  77  73  43  93        10\n",
      "1        2  58  87  67  81  96  93        10\n",
      "2        3  68  95  82  99  98  65        10\n",
      "3        4  78  78  90  65  61  94        10\n",
      "4        5  90  55  84  56  52  49        10\n"
     ]
    }
   ],
   "source": [
    "print(\"After Transfer\")\n",
    "df2.loc[0] = df.loc[0]\n",
    "print(df2.head())\n"
   ]
  },
  {
   "cell_type": "code",
   "execution_count": 24,
   "id": "4edb55a7",
   "metadata": {},
   "outputs": [],
   "source": [
    "#2.\n",
    "X = data.loc[:,[\"S1\",\"S2\",\"S3\",\"S4\",\"S5\",\"Teachers\"]]\n",
    "y = data.loc[:,\"S6\"]\n",
    "X_train, X_test, y_train, y_test = train_test_split(X, y, test_size=0.33, random_state=42)"
   ]
  },
  {
   "cell_type": "code",
   "execution_count": 25,
   "id": "d697ceb4",
   "metadata": {},
   "outputs": [
    {
     "name": "stdout",
     "output_type": "stream",
     "text": [
      "68.47737918811019\n"
     ]
    }
   ],
   "source": [
    "#3. Linear Regresssion...\n",
    "from sklearn.linear_model import LinearRegression\n",
    "model = LinearRegression()\n",
    "model.fit(X_train,y_train)\n",
    "pred = model.predict(X_test)\n",
    "print(pred[0])"
   ]
  },
  {
   "cell_type": "markdown",
   "id": "d470c4bf",
   "metadata": {},
   "source": [
    "### Here, we see that both previous value and current value of student 1 is :-  68.47737918811019"
   ]
  },
  {
   "cell_type": "markdown",
   "id": "30d32ff1",
   "metadata": {},
   "source": [
    "# Case 3:"
   ]
  },
  {
   "cell_type": "markdown",
   "id": "02faf271",
   "metadata": {},
   "source": [
    "### In this, we are going to reduce the no. of teachers to 5, then predict our values..."
   ]
  },
  {
   "cell_type": "code",
   "execution_count": 26,
   "id": "db60ff9a",
   "metadata": {},
   "outputs": [
    {
     "name": "stdout",
     "output_type": "stream",
     "text": [
      "Before Changing\n",
      "   Roll No  S1  S2  S3  S4  S5  S6  Teachers\n",
      "0        1  95  77  77  73  43  93        10\n",
      "1        2  58  87  67  81  96  93        10\n",
      "2        3  68  95  82  99  98  65        10\n",
      "3        4  78  78  90  65  61  94        10\n",
      "4        5  90  55  84  56  52  49        10\n"
     ]
    }
   ],
   "source": [
    "print(\"Before Changing\")\n",
    "print(df2.head())"
   ]
  },
  {
   "cell_type": "code",
   "execution_count": 28,
   "id": "048bdbba",
   "metadata": {},
   "outputs": [
    {
     "name": "stdout",
     "output_type": "stream",
     "text": [
      "After Changing\n",
      "   Roll No  S1  S2  S3  S4  S5  S6  Teachers\n",
      "0        1  95  77  77  73  43  93         5\n",
      "1        2  58  87  67  81  96  93         5\n",
      "2        3  68  95  82  99  98  65         5\n",
      "3        4  78  78  90  65  61  94         5\n",
      "4        5  90  55  84  56  52  49         5\n"
     ]
    }
   ],
   "source": [
    "print(\"After Changing\")\n",
    "df2.loc[:,\"Teachers\"] = 5\n",
    "\n",
    "print(df2.head())"
   ]
  },
  {
   "cell_type": "code",
   "execution_count": 29,
   "id": "b47428f8",
   "metadata": {},
   "outputs": [],
   "source": [
    "X = data.loc[:,[\"S1\",\"S2\",\"S3\",\"S4\",\"S5\",\"Teachers\"]]\n",
    "y = data.loc[:,\"S6\"]\n",
    "X_train, X_test, y_train, y_test = train_test_split(X, y, test_size=0.33, random_state=42)"
   ]
  },
  {
   "cell_type": "code",
   "execution_count": 30,
   "id": "2a6dc87c",
   "metadata": {},
   "outputs": [
    {
     "name": "stdout",
     "output_type": "stream",
     "text": [
      "68.47737918811019\n"
     ]
    }
   ],
   "source": [
    "from sklearn.linear_model import LinearRegression\n",
    "model = LinearRegression()\n",
    "model.fit(X_train,y_train)\n",
    "pred = model.predict(X_test)\n",
    "print(pred[0])"
   ]
  },
  {
   "cell_type": "markdown",
   "id": "bd234fba",
   "metadata": {},
   "source": [
    "### Here, we see that still the predicted current value of student 1 is :-  68.47737918811019"
   ]
  },
  {
   "cell_type": "markdown",
   "id": "58133862",
   "metadata": {},
   "source": [
    "                                     ----- The End -----"
   ]
  },
  {
   "cell_type": "code",
   "execution_count": null,
   "id": "2c87fba8",
   "metadata": {},
   "outputs": [],
   "source": []
  }
 ],
 "metadata": {
  "kernelspec": {
   "display_name": "Python 3 (ipykernel)",
   "language": "python",
   "name": "python3"
  },
  "language_info": {
   "codemirror_mode": {
    "name": "ipython",
    "version": 3
   },
   "file_extension": ".py",
   "mimetype": "text/x-python",
   "name": "python",
   "nbconvert_exporter": "python",
   "pygments_lexer": "ipython3",
   "version": "3.9.12"
  }
 },
 "nbformat": 4,
 "nbformat_minor": 5
}
